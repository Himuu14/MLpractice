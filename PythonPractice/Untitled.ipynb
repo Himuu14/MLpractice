{
 "cells": [
  {
   "cell_type": "code",
   "execution_count": 4,
   "id": "f2175db8",
   "metadata": {},
   "outputs": [
    {
     "name": "stdout",
     "output_type": "stream",
     "text": [
      "Jai sri ganesh\n"
     ]
    }
   ],
   "source": [
    "print(\"Jai sri ganesh\")"
   ]
  },
  {
   "cell_type": "code",
   "execution_count": 3,
   "id": "c02251c7",
   "metadata": {},
   "outputs": [
    {
     "name": "stdout",
     "output_type": "stream",
     "text": [
      "13\n",
      "7\n"
     ]
    }
   ],
   "source": [
    "hi =2\n",
    "man=3\n",
    "sh=2\n",
    "mis=3\n",
    "hra=3\n",
    "print(hi+man+sh+mis+hra)\n",
    "print(hi+man+sh)"
   ]
  },
  {
   "cell_type": "code",
   "execution_count": 2,
   "id": "b1c875be",
   "metadata": {},
   "outputs": [
    {
     "name": "stdout",
     "output_type": "stream",
     "text": [
      "Himansh Mishra\n"
     ]
    }
   ],
   "source": [
    "x=\"Himansh\"\n",
    "def myfunc():\n",
    "    print(x + \" Mishra\")\n",
    "myfunc()"
   ]
  },
  {
   "cell_type": "code",
   "execution_count": 3,
   "id": "8b2cc0a4",
   "metadata": {},
   "outputs": [
    {
     "name": "stdout",
     "output_type": "stream",
     "text": [
      "['Apple', 'Banana', 'Watermelon']\n"
     ]
    }
   ],
   "source": [
    "fruitlist =[\"Apple\", \"Banana\", \"Watermelon\"]\n",
    "print(fruitlist)"
   ]
  },
  {
   "cell_type": "code",
   "execution_count": 10,
   "id": "52b5d00d",
   "metadata": {},
   "outputs": [
    {
     "name": "stdout",
     "output_type": "stream",
     "text": [
      "['himansh', 'Mishra', 'the', 'Great', 196017, 9958409164, 'yoyoHoney']\n",
      "['the', 'Great', 196017]\n",
      "yoyoHoney\n",
      "Rafftar\n",
      "['himansh', 'Mishra', 'the', 'Great', 196017, 'Rafftar']\n"
     ]
    }
   ],
   "source": [
    "list1 =[\"himansh\",\"Mishra\",\"the\",\"Great\",196017,9958409164,\"yoyoHoney\"]\n",
    "print(list1)\n",
    "print(list1[2:5])\n",
    "print(list1[-1])\n",
    "list1[-1] = \"Rafftar\"\n",
    "print(list1[-1])\n",
    "list1.remove(9958409164)\n",
    "print(list1)"
   ]
  },
  {
   "cell_type": "code",
   "execution_count": 11,
   "id": "a5a028e3",
   "metadata": {},
   "outputs": [
    {
     "name": "stdout",
     "output_type": "stream",
     "text": [
      "haha\n",
      "hahaha\n",
      "hahahaha\n",
      "hahahahaha\n",
      "hahahahahaha\n"
     ]
    }
   ],
   "source": [
    "list =[\"haha\",\"hahaha\",\"hahahaha\",\"hahahahaha\",\"hahahahahaha\"]\n",
    "for x in list:\n",
    "    print(x)"
   ]
  },
  {
   "cell_type": "code",
   "execution_count": 12,
   "id": "9883a2ef",
   "metadata": {},
   "outputs": [
    {
     "name": "stdout",
     "output_type": "stream",
     "text": [
      "0\n",
      "1\n",
      "2\n",
      "3\n",
      "4\n"
     ]
    }
   ],
   "source": [
    "list =[\"haha\",\"hahaha\",\"hahahaha\",\"hahahahaha\",\"hahahahahaha\"]\n",
    "for x in range(len(list)):\n",
    "    print(x)"
   ]
  },
  {
   "cell_type": "code",
   "execution_count": 13,
   "id": "2f74ebfd",
   "metadata": {},
   "outputs": [
    {
     "name": "stdout",
     "output_type": "stream",
     "text": [
      "haha\n",
      "hahaha\n",
      "hahahaha\n",
      "hahahahaha\n",
      "hahahahahaha\n"
     ]
    }
   ],
   "source": [
    "list =[\"haha\",\"hahaha\",\"hahahaha\",\"hahahahaha\",\"hahahahahaha\"]\n",
    "i=0\n",
    "while i<len(list):\n",
    "    print(list[i])\n",
    "    i=i +1"
   ]
  },
  {
   "cell_type": "code",
   "execution_count": 1,
   "id": "cb5861b7",
   "metadata": {},
   "outputs": [
    {
     "ename": "ModuleNotFoundError",
     "evalue": "No module named 'numpy'",
     "output_type": "error",
     "traceback": [
      "\u001b[1;31m---------------------------------------------------------------------------\u001b[0m",
      "\u001b[1;31mModuleNotFoundError\u001b[0m                       Traceback (most recent call last)",
      "Cell \u001b[1;32mIn[1], line 1\u001b[0m\n\u001b[1;32m----> 1\u001b[0m \u001b[38;5;28;01mimport\u001b[39;00m \u001b[38;5;21;01mnumpy\u001b[39;00m \u001b[38;5;28;01mas\u001b[39;00m \u001b[38;5;21;01mnmp\u001b[39;00m\n",
      "\u001b[1;31mModuleNotFoundError\u001b[0m: No module named 'numpy'"
     ]
    }
   ],
   "source": [
    "import numpy as nmp"
   ]
  },
  {
   "cell_type": "code",
   "execution_count": 2,
   "id": "10060f2f",
   "metadata": {},
   "outputs": [
    {
     "name": "stdout",
     "output_type": "stream",
     "text": [
      "Collecting numpy"
     ]
    },
    {
     "name": "stderr",
     "output_type": "stream",
     "text": [
      "\n",
      "[notice] A new release of pip is available: 23.0.1 -> 23.1.2\n",
      "[notice] To update, run: python.exe -m pip install --upgrade pip\n"
     ]
    },
    {
     "name": "stdout",
     "output_type": "stream",
     "text": [
      "\n",
      "  Using cached numpy-1.24.3-cp310-cp310-win_amd64.whl (14.8 MB)\n",
      "Installing collected packages: numpy\n",
      "Successfully installed numpy-1.24.3\n"
     ]
    }
   ],
   "source": [
    "!pip install numpy\n"
   ]
  },
  {
   "cell_type": "code",
   "execution_count": 3,
   "id": "e79551a3",
   "metadata": {},
   "outputs": [],
   "source": [
    "import numpy as npm"
   ]
  },
  {
   "cell_type": "code",
   "execution_count": 4,
   "id": "f4e8a849",
   "metadata": {},
   "outputs": [
    {
     "name": "stdout",
     "output_type": "stream",
     "text": [
      "Requirement already satisfied: pip in c:\\users\\himuu\\appdata\\local\\programs\\python\\python310\\lib\\site-packages (23.0.1)Note: you may need to restart the kernel to use updated packages.\n",
      "\n",
      "Collecting pip\n",
      "  Using cached pip-23.1.2-py3-none-any.whl (2.1 MB)\n",
      "Installing collected packages: pip\n",
      "  Attempting uninstall: pip\n",
      "    Found existing installation: pip 23.0.1\n",
      "    Uninstalling pip-23.0.1:\n",
      "      Successfully uninstalled pip-23.0.1\n",
      "Successfully installed pip-23.1.2\n"
     ]
    }
   ],
   "source": [
    "pip install --upgrade pip\n"
   ]
  },
  {
   "cell_type": "code",
   "execution_count": null,
   "id": "e51550fd",
   "metadata": {},
   "outputs": [],
   "source": []
  }
 ],
 "metadata": {
  "kernelspec": {
   "display_name": "Python 3 (ipykernel)",
   "language": "python",
   "name": "python3"
  },
  "language_info": {
   "codemirror_mode": {
    "name": "ipython",
    "version": 3
   },
   "file_extension": ".py",
   "mimetype": "text/x-python",
   "name": "python",
   "nbconvert_exporter": "python",
   "pygments_lexer": "ipython3",
   "version": "3.10.2"
  }
 },
 "nbformat": 4,
 "nbformat_minor": 5
}
